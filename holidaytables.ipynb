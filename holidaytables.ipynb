{
 "cells": [
  {
   "cell_type": "markdown",
   "metadata": {},
   "source": [
    "## Modules"
   ]
  },
  {
   "cell_type": "code",
   "execution_count": null,
   "metadata": {},
   "outputs": [],
   "source": [
    "import os\n",
    "import sys\n",
    "sys.path.append('..')\n",
    "\n",
    "from datetime import datetime, timedelta\n",
    "import numpy as np\n",
    "import pandas as pd\n",
    "\n",
    "import requests\n",
    "from bs4 import BeautifulSoup"
   ]
  },
  {
   "cell_type": "markdown",
   "metadata": {},
   "source": [
    "## US Market holidays"
   ]
  },
  {
   "cell_type": "markdown",
   "metadata": {},
   "source": [
    "### Raw dataframe"
   ]
  },
  {
   "cell_type": "code",
   "execution_count": null,
   "metadata": {},
   "outputs": [],
   "source": [
    "year = 2022\n",
    "link = f'http://www.market-holidays.com/{year}'\n",
    "tablelist = pd.read_html(link)\n",
    "tablelist"
   ]
  },
  {
   "cell_type": "markdown",
   "metadata": {},
   "source": [
    "### Concatenate all years and export to CSV"
   ]
  },
  {
   "cell_type": "code",
   "execution_count": null,
   "metadata": {},
   "outputs": [],
   "source": [
    "dfhday_ny = pd.DataFrame()\n",
    "\n",
    "for year in range(1990, 2024):\n",
    "    tablelist = pd.read_html(f'http://www.market-holidays.com/{year}')\n",
    "    dfraw = tablelist[0].copy()\n",
    "    dfhday = pd.DataFrame(columns=['date', 'wday', 'name'])\n",
    "    dfhday['date'] = dfraw[1].apply(lambda x: datetime.strptime(x, '%B %d, %Y'))\n",
    "    dfhday['wday'] = dfhday['date'].apply(lambda x: x.weekday() + 1)\n",
    "    dfhday['name'] = dfraw[0]\n",
    "    dfhday_ny = pd.concat([dfhday_ny, dfhday], axis=0)\n",
    "    print(f'{year} US holiday done.')\n",
    "\n",
    "dfhday_ny.set_index('date', inplace=True)\n",
    "dfhday_ny['name'] = dfhday_ny['name'].replace('Martin Luther King, Jr. Day', 'MLK Day')\\\n",
    "                            .replace('Juneteenth National Independence Day', '619 Day')\n",
    "dfhday_ny = dfhday_ny[dfhday_ny['name'] != 'Martin Luther King, Jr. Day(1-minute pause at noon)']\n",
    "dfhday_ny.to_csv('holiday_ny.csv')"
   ]
  },
  {
   "cell_type": "markdown",
   "metadata": {},
   "source": [
    "## HK market holidays"
   ]
  },
  {
   "cell_type": "markdown",
   "metadata": {},
   "source": [
    "### Raw dataframe"
   ]
  },
  {
   "cell_type": "code",
   "execution_count": null,
   "metadata": {},
   "outputs": [],
   "source": [
    "year = 2022\n",
    "link = f'https://www.gov.hk/en/about/abouthk/holiday/{year}.htm'\n",
    "tablelist = pd.read_html(link)\n",
    "tablelist[0]"
   ]
  },
  {
   "cell_type": "markdown",
   "metadata": {},
   "source": [
    "### Restructure holiday dataframe"
   ]
  },
  {
   "cell_type": "code",
   "execution_count": null,
   "metadata": {},
   "outputs": [],
   "source": [
    "dfraw1 = tablelist[0].loc[1:]\n",
    "\n",
    "dfhday2 = pd.DataFrame(columns=['date', 'wday', 'name'])\n",
    "dfhday2['date'] = dfraw1[1].apply(lambda x: datetime.strptime(x + f',{year}', '%d %B,%Y'))\n",
    "dfhday2['wday'] = dfhday2['date'].apply(lambda x: x.weekday() + 1)\n",
    "dfhday2['name'] = dfraw1[0]\n",
    "dfhday2"
   ]
  },
  {
   "cell_type": "markdown",
   "metadata": {},
   "source": [
    "### Concatenate all years and export to CSV"
   ]
  },
  {
   "cell_type": "code",
   "execution_count": null,
   "metadata": {},
   "outputs": [],
   "source": [
    "dfhday_hk = pd.DataFrame()\n",
    "\n",
    "for year in range(2007, 2024):\n",
    "    tablelist = pd.read_html(f'https://www.gov.hk/en/about/abouthk/holiday/{year}.htm')\n",
    "    dfraw = tablelist[0].loc[1:]\n",
    "    dfhday = pd.DataFrame(columns=['date', 'wday', 'name'])\n",
    "    dfhday['date'] = dfraw[1].apply(lambda x: datetime.strptime(x + f',{year}', '%d %B,%Y'))\n",
    "    dfhday['wday'] = dfhday['date'].apply(lambda x: x.weekday() + 1)\n",
    "    dfhday['name'] = dfraw[0]\n",
    "    dfhday_hk = pd.concat([dfhday_hk, dfhday], axis=0)\n",
    "    print(f'{year} HK holiday done.')\n",
    "\n",
    "dfhday_hk.set_index('date', inplace=True)\n",
    "dfhday_hk.to_csv('holiday_hk.csv')"
   ]
  }
 ],
 "metadata": {
  "kernelspec": {
   "display_name": "Python 3",
   "language": "python",
   "name": "python3"
  },
  "language_info": {
   "codemirror_mode": {
    "name": "ipython",
    "version": 3
   },
   "file_extension": ".py",
   "mimetype": "text/x-python",
   "name": "python",
   "nbconvert_exporter": "python",
   "pygments_lexer": "ipython3",
   "version": "3.8.5"
  }
 },
 "nbformat": 4,
 "nbformat_minor": 4
}
