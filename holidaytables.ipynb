{
 "cells": [
  {
   "cell_type": "markdown",
   "metadata": {},
   "source": [
    "## Modules"
   ]
  },
  {
   "cell_type": "code",
   "execution_count": 1,
   "metadata": {},
   "outputs": [],
   "source": [
    "import os\n",
    "import sys\n",
    "sys.path.append('..')\n",
    "\n",
    "from datetime import datetime, timedelta\n",
    "import numpy as np\n",
    "import pandas as pd\n",
    "\n",
    "import requests\n",
    "from bs4 import BeautifulSoup"
   ]
  },
  {
   "cell_type": "markdown",
   "metadata": {},
   "source": [
    "## US Market holidays"
   ]
  },
  {
   "cell_type": "markdown",
   "metadata": {},
   "source": [
    "### Raw dataframe"
   ]
  },
  {
   "cell_type": "code",
   "execution_count": null,
   "metadata": {},
   "outputs": [],
   "source": [
    "year = 2022\n",
    "link = f'http://www.market-holidays.com/{year}'\n",
    "tablelist = pd.read_html(link)\n",
    "tablelist"
   ]
  },
  {
   "cell_type": "markdown",
   "metadata": {},
   "source": [
    "### Concatenate all years and export to CSV"
   ]
  },
  {
   "cell_type": "code",
   "execution_count": null,
   "metadata": {},
   "outputs": [],
   "source": [
    "dfhday_ny = pd.DataFrame()\n",
    "\n",
    "for year in range(1990, 2024):\n",
    "    tablelist = pd.read_html(f'http://www.market-holidays.com/{year}')\n",
    "    dfraw = tablelist[0].copy()\n",
    "    dfhday = pd.DataFrame(columns=['date', 'wday', 'name'])\n",
    "    dfhday['date'] = dfraw[1].apply(lambda x: datetime.strptime(x, '%B %d, %Y'))\n",
    "    dfhday['wday'] = dfhday['date'].apply(lambda x: x.weekday() + 1)\n",
    "    dfhday['name'] = dfraw[0]\n",
    "    dfhday_ny = pd.concat([dfhday_ny, dfhday], axis=0)\n",
    "    print(f'{year} US holiday done.')\n",
    "\n",
    "dfhday_ny.set_index('date', inplace=True)\n",
    "dfhday_ny['name'] = dfhday_ny['name'].replace('Martin Luther King, Jr. Day', 'MLK Day')\\\n",
    "                            .replace('Juneteenth National Independence Day', '619 Day')\n",
    "dfhday_ny = dfhday_ny[dfhday_ny['name'] != 'Martin Luther King, Jr. Day(1-minute pause at noon)']\n",
    "dfhday_ny.to_csv('holiday_ny.csv')"
   ]
  },
  {
   "cell_type": "markdown",
   "metadata": {},
   "source": [
    "## HK market holidays"
   ]
  },
  {
   "cell_type": "markdown",
   "metadata": {},
   "source": [
    "### Raw dataframe"
   ]
  },
  {
   "cell_type": "code",
   "execution_count": null,
   "metadata": {},
   "outputs": [],
   "source": [
    "year = 2022\n",
    "link = f'https://www.gov.hk/en/about/abouthk/holiday/{year}.htm'\n",
    "tablelist = pd.read_html(link)\n",
    "tablelist[0]"
   ]
  },
  {
   "cell_type": "markdown",
   "metadata": {},
   "source": [
    "### Concatenate all years and export to CSV"
   ]
  },
  {
   "cell_type": "code",
   "execution_count": null,
   "metadata": {},
   "outputs": [],
   "source": [
    "dfhday_hk = pd.DataFrame()\n",
    "\n",
    "for year in range(2007, 2024):\n",
    "    tablelist = pd.read_html(f'https://www.gov.hk/en/about/abouthk/holiday/{year}.htm')\n",
    "    dfraw = tablelist[0].loc[1:]\n",
    "    dfhday = pd.DataFrame(columns=['date', 'wday', 'name'])\n",
    "    dfhday['date'] = dfraw[1].apply(lambda x: datetime.strptime(x + f',{year}', '%d %B,%Y'))\n",
    "    dfhday['wday'] = dfhday['date'].apply(lambda x: x.weekday() + 1)\n",
    "    dfhday['name'] = dfraw[0]\n",
    "    dfhday_hk = pd.concat([dfhday_hk, dfhday], axis=0)\n",
    "    print(f'{year} HK holiday done.')\n",
    "\n",
    "dfhday_hk.set_index('date', inplace=True)\n",
    "dfhday_hk.to_csv('holiday_hk.csv')"
   ]
  },
  {
   "cell_type": "markdown",
   "metadata": {},
   "source": [
    "### Holiday files"
   ]
  },
  {
   "cell_type": "code",
   "execution_count": 4,
   "metadata": {},
   "outputs": [
    {
     "name": "stdout",
     "output_type": "stream",
     "text": [
      "['2022-06-03', '2022-07-01', '2022-09-12', '2022-10-01', '2022-10-04', '2022-12-26', '2022-12-27', '2023-01-02', '2023-01-23', '2023-01-24', '2023-01-25', '2023-04-05', '2023-04-07', '2023-04-08', '2023-04-10', '2023-05-01', '2023-05-26', '2023-06-22', '2023-07-01', '2023-09-30', '2023-10-02', '2023-10-23', '2023-12-25', '2023-12-26']\n",
      "['2021-07-05', '2021-09-06', '2021-11-25', '2021-12-24', '2021-12-31', '2022-01-17', '2022-02-21', '2022-04-15', '2022-05-30', '2022-06-20', '2022-07-04', '2022-09-05', '2022-11-24', '2022-12-26', '2023-01-02', '2023-01-16', '2023-02-20', '2023-04-07', '2023-05-29', '2023-06-19', '2023-07-04', '2023-09-04', '2023-11-23', '2023-12-25']\n"
     ]
    }
   ],
   "source": [
    "nyhdayfile = open('holiday_ny.csv', 'r')\n",
    "hkhdayfile = open('holiday_hk.csv', 'r')\n",
    "\n",
    "hkhdaylines = hkhdayfile.readlines()\n",
    "hkhdaylist = [row.split(',')[0] for row in hkhdaylines[1:]]\n",
    "print(hkhdaylist[-24:])\n",
    "\n",
    "nyhdaylines = nyhdayfile.readlines()\n",
    "nyhdaylist = [row.split(',')[0] for row in nyhdaylines[1:]]\n",
    "print(nyhdaylist[-24:])\n"
   ]
  },
  {
   "cell_type": "code",
   "execution_count": null,
   "metadata": {},
   "outputs": [],
   "source": []
  }
 ],
 "metadata": {
  "kernelspec": {
   "display_name": "Python 3",
   "language": "python",
   "name": "python3"
  },
  "language_info": {
   "codemirror_mode": {
    "name": "ipython",
    "version": 3
   },
   "file_extension": ".py",
   "mimetype": "text/x-python",
   "name": "python",
   "nbconvert_exporter": "python",
   "pygments_lexer": "ipython3",
   "version": "3.8.5"
  }
 },
 "nbformat": 4,
 "nbformat_minor": 4
}
