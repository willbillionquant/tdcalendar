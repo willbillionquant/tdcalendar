{
 "cells": [
  {
   "cell_type": "markdown",
   "metadata": {},
   "source": [
    "## Modules"
   ]
  },
  {
   "cell_type": "code",
   "execution_count": 1,
   "metadata": {},
   "outputs": [],
   "source": [
    "import os\n",
    "import sys\n",
    "sys.path.append('..')\n",
    "\n",
    "from datetime import datetime, timedelta\n",
    "import numpy as np\n",
    "import pandas as pd\n",
    "\n",
    "import requests\n",
    "from bs4 import BeautifulSoup"
   ]
  },
  {
   "cell_type": "markdown",
   "metadata": {},
   "source": [
    "## US Market holidays"
   ]
  },
  {
   "cell_type": "markdown",
   "metadata": {},
   "source": [
    "### Raw dataframe"
   ]
  },
  {
   "cell_type": "code",
   "execution_count": null,
   "metadata": {},
   "outputs": [],
   "source": [
    "year = 2022\n",
    "link = f'http://www.market-holidays.com/{year}'\n",
    "tablelist = pd.read_html(link)\n",
    "tablelist"
   ]
  },
  {
   "cell_type": "markdown",
   "metadata": {},
   "source": [
    "### Concatenate all years and export to CSV"
   ]
  },
  {
   "cell_type": "code",
   "execution_count": null,
   "metadata": {},
   "outputs": [],
   "source": [
    "dfhday_ny = pd.DataFrame()\n",
    "\n",
    "for year in range(1990, 2024):\n",
    "    tablelist = pd.read_html(f'http://www.market-holidays.com/{year}')\n",
    "    dfraw = tablelist[0].copy()\n",
    "    dfhday = pd.DataFrame(columns=['date', 'wday', 'name'])\n",
    "    dfhday['date'] = dfraw[1].apply(lambda x: datetime.strptime(x, '%B %d, %Y'))\n",
    "    dfhday['wday'] = dfhday['date'].apply(lambda x: x.weekday() + 1)\n",
    "    dfhday['name'] = dfraw[0]\n",
    "    dfhday_ny = pd.concat([dfhday_ny, dfhday], axis=0)\n",
    "    print(f'{year} US holiday done.')\n",
    "\n",
    "dfhday_ny.set_index('date', inplace=True)\n",
    "dfhday_ny['name'] = dfhday_ny['name'].replace('Martin Luther King, Jr. Day', 'MLK Day')\\\n",
    "                            .replace('Juneteenth National Independence Day', '619 Day')\n",
    "dfhday_ny = dfhday_ny[dfhday_ny['name'] != 'Martin Luther King, Jr. Day(1-minute pause at noon)']\n",
    "dfhday_ny.to_csv('holiday_ny.csv')"
   ]
  },
  {
   "cell_type": "markdown",
   "metadata": {},
   "source": [
    "## HK market holidays"
   ]
  },
  {
   "cell_type": "markdown",
   "metadata": {},
   "source": [
    "### Raw dataframe"
   ]
  },
  {
   "cell_type": "code",
   "execution_count": null,
   "metadata": {},
   "outputs": [],
   "source": [
    "year = 2022\n",
    "link = f'https://www.gov.hk/en/about/abouthk/holiday/{year}.htm'\n",
    "tablelist = pd.read_html(link)\n",
    "tablelist[0]"
   ]
  },
  {
   "cell_type": "markdown",
   "metadata": {},
   "source": [
    "### Concatenate all years and export to CSV"
   ]
  },
  {
   "cell_type": "code",
   "execution_count": null,
   "metadata": {},
   "outputs": [],
   "source": [
    "dfhday_hk = pd.DataFrame()\n",
    "\n",
    "for year in range(2007, 2024):\n",
    "    tablelist = pd.read_html(f'https://www.gov.hk/en/about/abouthk/holiday/{year}.htm')\n",
    "    dfraw = tablelist[0].loc[1:]\n",
    "    dfhday = pd.DataFrame(columns=['date', 'wday', 'name'])\n",
    "    dfhday['date'] = dfraw[1].apply(lambda x: datetime.strptime(x + f',{year}', '%d %B,%Y'))\n",
    "    dfhday['wday'] = dfhday['date'].apply(lambda x: x.weekday() + 1)\n",
    "    dfhday['name'] = dfraw[0]\n",
    "    dfhday_hk = pd.concat([dfhday_hk, dfhday], axis=0)\n",
    "    print(f'{year} HK holiday done.')\n",
    "\n",
    "dfhday_hk.set_index('date', inplace=True)\n",
    "dfhday_hk.to_csv('holiday_hk.csv')"
   ]
  },
  {
   "cell_type": "markdown",
   "metadata": {},
   "source": [
    "## Handling trading days"
   ]
  },
  {
   "cell_type": "markdown",
   "metadata": {},
   "source": [
    "### Holiday files"
   ]
  },
  {
   "cell_type": "code",
   "execution_count": 2,
   "metadata": {},
   "outputs": [],
   "source": [
    "# US stock market holidays\n",
    "holidayfile_ny = open(os.path.join('holiday_ny.csv'), 'r')\n",
    "holidaylines_ny = holidayfile_ny.readlines()\n",
    "holidaylist_ny = [datetime.strptime(row.split(',')[0], '%Y-%m-%d') for row in holidaylines_ny[1:]]\n",
    "\n",
    "# HK stock market holidays\n",
    "holidayfile_hk = open(os.path.join('holiday_hk.csv'), 'r')\n",
    "holidaylines_hk = holidayfile_hk.readlines()\n",
    "holidaylist_hk = [datetime.strptime(row.split(',')[0], '%Y-%m-%d') for row in holidaylines_hk[1:]]"
   ]
  },
  {
   "cell_type": "markdown",
   "metadata": {},
   "source": [
    "### Trading days"
   ]
  },
  {
   "cell_type": "code",
   "execution_count": 3,
   "metadata": {},
   "outputs": [],
   "source": [
    "def getwkdays(startyr=1997, endyr=2046, form='%Y-%m-%d'):\n",
    "    \"\"\"Get all working days (non-weekend) to string in a list.\"\"\"\n",
    "    dtlist = []\n",
    "    date = datetime.strptime(f'{startyr}-01-01', '%Y-%m-%d')\n",
    "    while (date.year >= startyr) and (date.year <= endyr):\n",
    "        if date.weekday() <= 4:\n",
    "            dtlist.append(date.strftime(form))\n",
    "        date += timedelta(days=1)\n",
    "\n",
    "    return dtlist\n",
    "\n",
    "workdtlist0 = getwkdays()  #  Format yyyy-mm-dd\n",
    "workdtlist1 = getwkdays(form='%Y%m%d')  # Format yyyymmdd\n",
    "workdtlist2 = getwkdays(form='%y%m%d')  # Format yymmdd"
   ]
  },
  {
   "cell_type": "code",
   "execution_count": 9,
   "metadata": {},
   "outputs": [],
   "source": [
    "def gettradedays(holidaylist, startdt=datetime(2020, 1, 1), enddt=datetime(2022, 12, 31), form='%Y-%m-%d'):\n",
    "    \"\"\"Get all trading day spanning a period, excluding holidays.\"\"\"\n",
    "    if form == '%Y-%m-%d':\n",
    "        workdtlist = workdtlist0\n",
    "    elif form == '%Y%m%d':\n",
    "        workdtlist = workdtlist1\n",
    "    elif form == '%y%m%d':\n",
    "        workdtlist = workdtlist2\n",
    "    else:\n",
    "        workdtlist = getwkdays(form=form)\n",
    "        \n",
    "    startstr = startdt.strftime(form)\n",
    "    endstr = enddt.strftime(form)\n",
    "    holidaystrlist = [date.strftime(form) for date in holidaylist]\n",
    "    tdlist = [dtstr for dtstr in workdtlist if (dtstr >= startstr) and (dtstr <= endstr)]\n",
    "    tdlist = [dtstr for dtstr in tdlist if dtstr not in holidaystrlist]\n",
    "\n",
    "    return tdlist"
   ]
  },
  {
   "cell_type": "code",
   "execution_count": 10,
   "metadata": {},
   "outputs": [
    {
     "name": "stdout",
     "output_type": "stream",
     "text": [
      "['2022-12-01', '2022-12-02', '2022-12-05', '2022-12-06', '2022-12-07', '2022-12-08', '2022-12-09', '2022-12-12', '2022-12-13', '2022-12-14', '2022-12-15', '2022-12-16', '2022-12-19', '2022-12-20', '2022-12-21', '2022-12-22', '2022-12-23', '2022-12-28', '2022-12-29', '2022-12-30']\n"
     ]
    }
   ],
   "source": [
    "tdaylist_hk1 = gettradedays(holidaylist_hk)\n",
    "print(tdaylist_hk1[-20:])"
   ]
  },
  {
   "cell_type": "markdown",
   "metadata": {},
   "source": [
    "### Get latest trading day"
   ]
  },
  {
   "cell_type": "code",
   "execution_count": 11,
   "metadata": {},
   "outputs": [],
   "source": [
    "def getlatesttradingday(holidaylist, offset=6, form='%Y-%m-%d'):\n",
    "    \"\"\"Obtain the latest trading date.\"\"\"\n",
    "    today = datetime.today() - timedelta(days=1, hours=offset)\n",
    "    earlyday = today - timedelta(days=30)\n",
    "    tdlist = [dtstr for dtstr in gettradedays(holidaylist, earlyday, today, form)]\n",
    "\n",
    "    return tdlist[-1]"
   ]
  },
  {
   "cell_type": "code",
   "execution_count": 12,
   "metadata": {},
   "outputs": [
    {
     "name": "stdout",
     "output_type": "stream",
     "text": [
      "2022-11-29\n",
      "2022-11-29\n"
     ]
    }
   ],
   "source": [
    "print(getlatesttradingday(holidaylist_ny))\n",
    "print(getlatesttradingday(holidaylist_hk))"
   ]
  },
  {
   "cell_type": "markdown",
   "metadata": {},
   "source": [
    "### HK Futures monthly settlement days"
   ]
  },
  {
   "cell_type": "code",
   "execution_count": null,
   "metadata": {},
   "outputs": [],
   "source": [
    "def getsetdate(monthstr='JAN-21'):\n",
    "    \"\"\"Obtain HK settlement date in a month.\"\"\"\n",
    "    monthstr = monthstr.capitalize()\n",
    "    monthstr = '20%s-%s'%(monthstr[-2:], monthstr[:3])\n",
    "    testdate = datetime.strptime(monthstr, '%Y-%b')\n",
    "    yearwdaylist = get_hkexday_year(testdate.year, 0)\n",
    "    mthdaylist = [testdate]\n",
    "    while testdate.month == (testdate + timedelta(days=1)).month:\n",
    "        testdate += timedelta(days=1)\n",
    "        mthdaylist.append(testdate)\n",
    "    mthdaylist = [date.strftime('%Y-%m-%d') for date in mthdaylist]\n",
    "    mthdaylist = [dtstr for dtstr in mthdaylist if dtstr in yearwdaylist]\n",
    "    setdate = datetime.strptime(mthdaylist[-2], '%Y-%m-%d')\n",
    "    return setdate\n"
   ]
  },
  {
   "cell_type": "code",
   "execution_count": 20,
   "metadata": {},
   "outputs": [
    {
     "data": {
      "text/plain": [
       "'2022-11-29'"
      ]
     },
     "execution_count": 20,
     "metadata": {},
     "output_type": "execute_result"
    }
   ],
   "source": [
    "month1 = 'NOV-22'\n",
    "monthstart1 = datetime.strptime(month1, '%b-%y')\n",
    "monthstr1 = monthstart1.strftime('%Y-%m')\n",
    "year1 = monthstart1.year\n",
    "month1 = monthstart1.month\n",
    "tdaylist1 = gettradedays(holidaylist_hk, datetime(year1, 1, 1), datetime(year1, 12, 31))\n",
    "tdaylist1 = [dtstr for dtstr in tdaylist1 if dtstr[:7] == monthstr1] \n",
    "tdaylist1[-2]"
   ]
  },
  {
   "cell_type": "code",
   "execution_count": null,
   "metadata": {},
   "outputs": [],
   "source": []
  }
 ],
 "metadata": {
  "kernelspec": {
   "display_name": "Python 3",
   "language": "python",
   "name": "python3"
  },
  "language_info": {
   "codemirror_mode": {
    "name": "ipython",
    "version": 3
   },
   "file_extension": ".py",
   "mimetype": "text/x-python",
   "name": "python",
   "nbconvert_exporter": "python",
   "pygments_lexer": "ipython3",
   "version": "3.8.5"
  }
 },
 "nbformat": 4,
 "nbformat_minor": 4
}
