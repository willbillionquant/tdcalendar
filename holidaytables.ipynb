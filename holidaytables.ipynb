{
 "cells": [
  {
   "cell_type": "markdown",
   "metadata": {},
   "source": [
    "## Modules"
   ]
  },
  {
   "cell_type": "code",
   "execution_count": 1,
   "metadata": {},
   "outputs": [],
   "source": [
    "import os\n",
    "import sys\n",
    "sys.path.append('..')\n",
    "\n",
    "from datetime import datetime, timedelta\n",
    "from itertools import product\n",
    "import numpy as np\n",
    "import pandas as pd\n",
    "\n",
    "from time import time"
   ]
  },
  {
   "cell_type": "markdown",
   "metadata": {},
   "source": [
    "## Handling trading days"
   ]
  },
  {
   "cell_type": "markdown",
   "metadata": {},
   "source": [
    "### Holiday files"
   ]
  },
  {
   "cell_type": "code",
   "execution_count": 2,
   "metadata": {},
   "outputs": [],
   "source": [
    "# US stock market holidays\n",
    "with open(os.path.join('holiday_ny.csv'), 'r') as f:\n",
    "    holidaylines_ny = f.readlines()\n",
    "    holidaylist_ny = [datetime.strptime(row.split(',')[0], '%Y-%m-%d') for row in holidaylines_ny[1:]]\n",
    "\n",
    "# HK stock market holidays\n",
    "with open(os.path.join('holiday_hk.csv'), 'r') as f:\n",
    "    holidaylines_hk = f.readlines()\n",
    "    holidaylist_hk = [datetime.strptime(row.split(',')[0], '%Y-%m-%d') for row in holidaylines_hk[1:]]"
   ]
  },
  {
   "cell_type": "markdown",
   "metadata": {},
   "source": [
    "### Trading days"
   ]
  },
  {
   "cell_type": "code",
   "execution_count": 3,
   "metadata": {},
   "outputs": [],
   "source": [
    "def getwkdays(startyr=1997, endyr=2046, form='%Y-%m-%d'):\n",
    "    \"\"\"Get all working days (non-weekend) to string in a list.\"\"\"\n",
    "    dtlist = []\n",
    "    date = datetime.strptime(f'{startyr}-01-01', '%Y-%m-%d')\n",
    "    while (date.year >= startyr) and (date.year <= endyr):\n",
    "        if date.weekday() <= 4:\n",
    "            dtlist.append(date.strftime(form))\n",
    "        date += timedelta(days=1)\n",
    "\n",
    "    return dtlist\n",
    "\n",
    "workdtlist0 = getwkdays()  #  Format yyyy-mm-dd\n",
    "workdtlist1 = getwkdays(form='%Y%m%d')  # Format yyyymmdd\n",
    "workdtlist2 = getwkdays(form='%y%m%d')  # Format yymmdd"
   ]
  },
  {
   "cell_type": "code",
   "execution_count": 4,
   "metadata": {},
   "outputs": [],
   "source": [
    "def gettradedays(holidaylist, startdt=datetime(2020, 1, 1), enddt=datetime(2022, 12, 31), form='%Y-%m-%d'):\n",
    "    \"\"\"Get all trading day spanning a period, excluding holidays.\"\"\"\n",
    "    if form == '%Y-%m-%d':\n",
    "        workdtlist = workdtlist0\n",
    "    elif form == '%Y%m%d':\n",
    "        workdtlist = workdtlist1\n",
    "    elif form == '%y%m%d':\n",
    "        workdtlist = workdtlist2\n",
    "    else:\n",
    "        workdtlist = getwkdays(form=form)\n",
    "        \n",
    "    startstr = startdt.strftime(form)\n",
    "    endstr = enddt.strftime(form)\n",
    "    holidaystrlist = [date.strftime(form) for date in holidaylist]\n",
    "    tdlist = [dtstr for dtstr in workdtlist if (dtstr >= startstr) and (dtstr <= endstr)]\n",
    "    tdlist = [dtstr for dtstr in tdlist if dtstr not in holidaystrlist]\n",
    "\n",
    "    return tdlist"
   ]
  },
  {
   "cell_type": "code",
   "execution_count": 5,
   "metadata": {},
   "outputs": [
    {
     "name": "stdout",
     "output_type": "stream",
     "text": [
      "['2022-12-01', '2022-12-02', '2022-12-05', '2022-12-06', '2022-12-07', '2022-12-08', '2022-12-09', '2022-12-12', '2022-12-13', '2022-12-14', '2022-12-15', '2022-12-16', '2022-12-19', '2022-12-20', '2022-12-21', '2022-12-22', '2022-12-23', '2022-12-28', '2022-12-29', '2022-12-30']\n"
     ]
    }
   ],
   "source": [
    "tdaylist_hk1 = gettradedays(holidaylist_hk)\n",
    "print(tdaylist_hk1[-20:])"
   ]
  },
  {
   "cell_type": "markdown",
   "metadata": {},
   "source": [
    "### Get latest trading day"
   ]
  },
  {
   "cell_type": "code",
   "execution_count": 6,
   "metadata": {},
   "outputs": [],
   "source": [
    "def getlatesttradingday(holidaylist, offset=6, form='%Y-%m-%d'):\n",
    "    \"\"\"Obtain the latest trading date.\"\"\"\n",
    "    today = datetime.today() - timedelta(days=1, hours=offset)\n",
    "    earlyday = today - timedelta(days=30)\n",
    "    tdlist = [dtstr for dtstr in gettradedays(holidaylist, earlyday, today, form)]\n",
    "\n",
    "    return tdlist[-1]"
   ]
  },
  {
   "cell_type": "code",
   "execution_count": 7,
   "metadata": {},
   "outputs": [
    {
     "name": "stdout",
     "output_type": "stream",
     "text": [
      "2022-12-01\n",
      "2022-12-01\n"
     ]
    }
   ],
   "source": [
    "print(getlatesttradingday(holidaylist_ny))\n",
    "print(getlatesttradingday(holidaylist_hk))"
   ]
  },
  {
   "cell_type": "markdown",
   "metadata": {},
   "source": [
    "### HK Futures monthly settlement days"
   ]
  },
  {
   "cell_type": "code",
   "execution_count": 8,
   "metadata": {},
   "outputs": [
    {
     "name": "stdout",
     "output_type": "stream",
     "text": [
      "Time elapsed getting expiry date dict: 2.4938s\n"
     ]
    }
   ],
   "source": [
    "def gethkexpiry(monthstr='JAN-21'):\n",
    "    \"\"\"Obtain HK monthly expiry day in a month.\"\"\"\n",
    "    monthstart = datetime.strptime(monthstr, '%b-%y')\n",
    "    monthstr = monthstart.strftime('%Y-%m')\n",
    "    year = monthstart.year\n",
    "    tdaylist = gettradedays(holidaylist_hk, datetime(year, 1, 1), datetime(year, 12, 31))\n",
    "    tdaylist = [dtstr for dtstr in tdaylist if dtstr[:7] == monthstr] \n",
    "    \n",
    "    return tdaylist[-2]\n",
    "\n",
    "starttime = time()\n",
    "\n",
    "expirydict = {}\n",
    "\n",
    "for year, month in product(range(2007, 2024), range(1, 13)):\n",
    "    monthstr = (datetime(year, month, 1).strftime('%b-%y')).upper()\n",
    "    expirydict[monthstr] = gethkexpiry(monthstr)\n",
    "    \n",
    "expirylist = list(expirydict.values())\n",
    "expirylist.sort()\n",
    "\n",
    "endtime = time()\n",
    "print(f'Time elapsed getting expiry date dict: {round(endtime - starttime, 4)}s')"
   ]
  },
  {
   "cell_type": "markdown",
   "metadata": {},
   "source": [
    "### Read HK settlement day dictionary"
   ]
  },
  {
   "cell_type": "code",
   "execution_count": 9,
   "metadata": {},
   "outputs": [
    {
     "name": "stdout",
     "output_type": "stream",
     "text": [
      "Time elapsed getting expiry date dict: 0.0131s\n"
     ]
    }
   ],
   "source": [
    "starttime = time()\n",
    "\n",
    "with open('monthexpiry_hk.csv', 'r') as f:\n",
    "    hkexpirylines = f.readlines()\n",
    "    hkexpirydict = {}\n",
    "    for row in hkexpirylines:\n",
    "        monthstart = datetime.strptime(row[:7], '%Y-%m')\n",
    "        \n",
    "        \n",
    "        monthstr = monthstart.strftime('%b-%y').upper()\n",
    "        hkexpirydict[monthstr] = row[:-1]\n",
    "        \n",
    "hkexpirylist = list(hkexpirydict.values())\n",
    "hkexpirylist.sort()\n",
    "    \n",
    "endtime = time()\n",
    "print(f'Time elapsed getting expiry date dict: {round(endtime - starttime, 4)}s')\n"
   ]
  },
  {
   "cell_type": "code",
   "execution_count": null,
   "metadata": {},
   "outputs": [],
   "source": []
  },
  {
   "cell_type": "code",
   "execution_count": null,
   "metadata": {},
   "outputs": [],
   "source": []
  },
  {
   "cell_type": "code",
   "execution_count": null,
   "metadata": {},
   "outputs": [],
   "source": []
  },
  {
   "cell_type": "code",
   "execution_count": null,
   "metadata": {},
   "outputs": [],
   "source": []
  },
  {
   "cell_type": "code",
   "execution_count": null,
   "metadata": {},
   "outputs": [],
   "source": []
  },
  {
   "cell_type": "code",
   "execution_count": null,
   "metadata": {},
   "outputs": [],
   "source": []
  },
  {
   "cell_type": "code",
   "execution_count": null,
   "metadata": {},
   "outputs": [],
   "source": []
  }
 ],
 "metadata": {
  "kernelspec": {
   "display_name": "Python 3",
   "language": "python",
   "name": "python3"
  },
  "language_info": {
   "codemirror_mode": {
    "name": "ipython",
    "version": 3
   },
   "file_extension": ".py",
   "mimetype": "text/x-python",
   "name": "python",
   "nbconvert_exporter": "python",
   "pygments_lexer": "ipython3",
   "version": "3.8.5"
  }
 },
 "nbformat": 4,
 "nbformat_minor": 4
}
